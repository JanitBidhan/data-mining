{
  "nbformat": 4,
  "nbformat_minor": 0,
  "metadata": {
    "colab": {
      "name": "Recommendation System",
      "provenance": [],
      "collapsed_sections": []
    },
    "kernelspec": {
      "name": "python3",
      "display_name": "Python 3"
    },
    "language_info": {
      "name": "python"
    }
  },
  "cells": [
    {
      "cell_type": "code",
      "metadata": {
        "id": "FMsMmDiOKUMZ"
      },
      "source": [
        "import numpy as np\n",
        "import pandas as pd\n",
        "import matplotlib.pyplot as plt\n",
        "from sklearn.metrics import confusion_matrix\n",
        "from sklearn.model_selection import train_test_split \n",
        "from sklearn.tree import DecisionTreeClassifier\n",
        "from sklearn.metrics import accuracy_score, f1_score\n",
        "from sklearn.metrics import classification_report\n",
        "from collections import Counter\n",
        "from sklearn.utils import resample\n",
        "from sklearn import preprocessing\n",
        "from scipy.sparse import csr_matrix"
      ],
      "execution_count": null,
      "outputs": []
    },
    {
      "cell_type": "code",
      "metadata": {
        "id": "X47_h9ajKgfQ"
      },
      "source": [
        "# Read the file and store the data\n",
        "def readTrainfile(filepath, sep):\n",
        "    read_data = pd.read_csv(filepath, sep=sep, encoding = 'latin-1')\n",
        "    return read_data\n",
        "\n",
        "# Save the file the output file\n",
        "def saveOutput(filePath, data):\n",
        "    # writing to .txt\n",
        "    np.savetxt(filePath, data, fmt='%s')\n",
        "\n",
        "# Save the data to csv\n",
        "def saveCSV(data,namefile):\n",
        "    data.to_csv(namefile, encoding='utf-8', index=False)"
      ],
      "execution_count": null,
      "outputs": []
    },
    {
      "cell_type": "code",
      "metadata": {
        "id": "Qg9JhufVIcuh"
      },
      "source": [
        "FinalTest =readTrainfile(filepath=\"/test.dat\", sep= ' ')\n",
        "train= readTrainfile(filepath=\"/train.dat\", sep= ' ')"
      ],
      "execution_count": null,
      "outputs": []
    },
    {
      "cell_type": "code",
      "metadata": {
        "colab": {
          "base_uri": "https://localhost:8080/",
          "height": 423
        },
        "id": "vHx7bGYdKet0",
        "outputId": "0cfc3af7-44b0-48d6-b35c-0c2b83631aa9"
      },
      "source": [
        "train"
      ],
      "execution_count": null,
      "outputs": [
        {
          "output_type": "execute_result",
          "data": {
            "text/html": [
              "<div>\n",
              "<style scoped>\n",
              "    .dataframe tbody tr th:only-of-type {\n",
              "        vertical-align: middle;\n",
              "    }\n",
              "\n",
              "    .dataframe tbody tr th {\n",
              "        vertical-align: top;\n",
              "    }\n",
              "\n",
              "    .dataframe thead th {\n",
              "        text-align: right;\n",
              "    }\n",
              "</style>\n",
              "<table border=\"1\" class=\"dataframe\">\n",
              "  <thead>\n",
              "    <tr style=\"text-align: right;\">\n",
              "      <th></th>\n",
              "      <th>userID</th>\n",
              "      <th>movieID</th>\n",
              "      <th>rating</th>\n",
              "    </tr>\n",
              "  </thead>\n",
              "  <tbody>\n",
              "    <tr>\n",
              "      <th>0</th>\n",
              "      <td>75</td>\n",
              "      <td>3</td>\n",
              "      <td>1.0</td>\n",
              "    </tr>\n",
              "    <tr>\n",
              "      <th>1</th>\n",
              "      <td>75</td>\n",
              "      <td>32</td>\n",
              "      <td>4.5</td>\n",
              "    </tr>\n",
              "    <tr>\n",
              "      <th>2</th>\n",
              "      <td>75</td>\n",
              "      <td>110</td>\n",
              "      <td>4.0</td>\n",
              "    </tr>\n",
              "    <tr>\n",
              "      <th>3</th>\n",
              "      <td>75</td>\n",
              "      <td>163</td>\n",
              "      <td>4.0</td>\n",
              "    </tr>\n",
              "    <tr>\n",
              "      <th>4</th>\n",
              "      <td>75</td>\n",
              "      <td>165</td>\n",
              "      <td>4.5</td>\n",
              "    </tr>\n",
              "    <tr>\n",
              "      <th>...</th>\n",
              "      <td>...</td>\n",
              "      <td>...</td>\n",
              "      <td>...</td>\n",
              "    </tr>\n",
              "    <tr>\n",
              "      <th>641694</th>\n",
              "      <td>71534</td>\n",
              "      <td>42900</td>\n",
              "      <td>4.0</td>\n",
              "    </tr>\n",
              "    <tr>\n",
              "      <th>641695</th>\n",
              "      <td>71534</td>\n",
              "      <td>44555</td>\n",
              "      <td>4.0</td>\n",
              "    </tr>\n",
              "    <tr>\n",
              "      <th>641696</th>\n",
              "      <td>71534</td>\n",
              "      <td>46578</td>\n",
              "      <td>4.0</td>\n",
              "    </tr>\n",
              "    <tr>\n",
              "      <th>641697</th>\n",
              "      <td>71534</td>\n",
              "      <td>61075</td>\n",
              "      <td>5.0</td>\n",
              "    </tr>\n",
              "    <tr>\n",
              "      <th>641698</th>\n",
              "      <td>71534</td>\n",
              "      <td>62049</td>\n",
              "      <td>4.5</td>\n",
              "    </tr>\n",
              "  </tbody>\n",
              "</table>\n",
              "<p>641699 rows × 3 columns</p>\n",
              "</div>"
            ],
            "text/plain": [
              "        userID  movieID  rating\n",
              "0           75        3     1.0\n",
              "1           75       32     4.5\n",
              "2           75      110     4.0\n",
              "3           75      163     4.0\n",
              "4           75      165     4.5\n",
              "...        ...      ...     ...\n",
              "641694   71534    42900     4.0\n",
              "641695   71534    44555     4.0\n",
              "641696   71534    46578     4.0\n",
              "641697   71534    61075     5.0\n",
              "641698   71534    62049     4.5\n",
              "\n",
              "[641699 rows x 3 columns]"
            ]
          },
          "metadata": {},
          "execution_count": 4
        }
      ]
    },
    {
      "cell_type": "code",
      "metadata": {
        "colab": {
          "base_uri": "https://localhost:8080/",
          "height": 423
        },
        "id": "q1hMjI7CKkwE",
        "outputId": "1d9778e6-ef84-45ec-d798-45840ae1e418"
      },
      "source": [
        "FinalTest"
      ],
      "execution_count": null,
      "outputs": [
        {
          "output_type": "execute_result",
          "data": {
            "text/html": [
              "<div>\n",
              "<style scoped>\n",
              "    .dataframe tbody tr th:only-of-type {\n",
              "        vertical-align: middle;\n",
              "    }\n",
              "\n",
              "    .dataframe tbody tr th {\n",
              "        vertical-align: top;\n",
              "    }\n",
              "\n",
              "    .dataframe thead th {\n",
              "        text-align: right;\n",
              "    }\n",
              "</style>\n",
              "<table border=\"1\" class=\"dataframe\">\n",
              "  <thead>\n",
              "    <tr style=\"text-align: right;\">\n",
              "      <th></th>\n",
              "      <th>userID</th>\n",
              "      <th>movieID</th>\n",
              "    </tr>\n",
              "  </thead>\n",
              "  <tbody>\n",
              "    <tr>\n",
              "      <th>0</th>\n",
              "      <td>75</td>\n",
              "      <td>653</td>\n",
              "    </tr>\n",
              "    <tr>\n",
              "      <th>1</th>\n",
              "      <td>75</td>\n",
              "      <td>1527</td>\n",
              "    </tr>\n",
              "    <tr>\n",
              "      <th>2</th>\n",
              "      <td>75</td>\n",
              "      <td>3258</td>\n",
              "    </tr>\n",
              "    <tr>\n",
              "      <th>3</th>\n",
              "      <td>75</td>\n",
              "      <td>7007</td>\n",
              "    </tr>\n",
              "    <tr>\n",
              "      <th>4</th>\n",
              "      <td>78</td>\n",
              "      <td>82</td>\n",
              "    </tr>\n",
              "    <tr>\n",
              "      <th>...</th>\n",
              "      <td>...</td>\n",
              "      <td>...</td>\n",
              "    </tr>\n",
              "    <tr>\n",
              "      <th>71294</th>\n",
              "      <td>71534</td>\n",
              "      <td>2208</td>\n",
              "    </tr>\n",
              "    <tr>\n",
              "      <th>71295</th>\n",
              "      <td>71534</td>\n",
              "      <td>2997</td>\n",
              "    </tr>\n",
              "    <tr>\n",
              "      <th>71296</th>\n",
              "      <td>71534</td>\n",
              "      <td>4306</td>\n",
              "    </tr>\n",
              "    <tr>\n",
              "      <th>71297</th>\n",
              "      <td>71534</td>\n",
              "      <td>7132</td>\n",
              "    </tr>\n",
              "    <tr>\n",
              "      <th>71298</th>\n",
              "      <td>71534</td>\n",
              "      <td>35836</td>\n",
              "    </tr>\n",
              "  </tbody>\n",
              "</table>\n",
              "<p>71299 rows × 2 columns</p>\n",
              "</div>"
            ],
            "text/plain": [
              "       userID  movieID\n",
              "0          75      653\n",
              "1          75     1527\n",
              "2          75     3258\n",
              "3          75     7007\n",
              "4          78       82\n",
              "...       ...      ...\n",
              "71294   71534     2208\n",
              "71295   71534     2997\n",
              "71296   71534     4306\n",
              "71297   71534     7132\n",
              "71298   71534    35836\n",
              "\n",
              "[71299 rows x 2 columns]"
            ]
          },
          "metadata": {},
          "execution_count": 5
        }
      ]
    },
    {
      "cell_type": "code",
      "metadata": {
        "id": "g91-BlWVY2FI"
      },
      "source": [
        "from sklearn.model_selection import KFold\n",
        "\n",
        "# Creating folds, with N as 3. \n",
        "kf = KFold(n_splits=3, shuffle=True)\n",
        "kf.get_n_splits(train)\n",
        "\n",
        "train_X = train.drop(columns=['rating'])\n",
        "train_Y = train['rating']\n",
        "\n",
        "for train_index, test_index in kf.split(train_X, train_Y):\n",
        "  # print(train_index, test_index)\n",
        "    X_train, X_test = train_X.iloc[train_index], train_X.iloc[test_index]\n",
        "    y_train, y_test = train_Y[train_index], train_Y[test_index]\n",
        "\n",
        "    break"
      ],
      "execution_count": null,
      "outputs": []
    },
    {
      "cell_type": "code",
      "metadata": {
        "id": "1AX-f4JwKrW6"
      },
      "source": [
        "# preprocessTrainData=train.dropna()\n",
        "# training_set_X, training_set_Y= train.drop(columns=['rating']), train['rating']\n",
        "# training_set_Y"
      ],
      "execution_count": null,
      "outputs": []
    },
    {
      "cell_type": "code",
      "metadata": {
        "colab": {
          "base_uri": "https://localhost:8080/"
        },
        "id": "MJ0WbvTyNiYX",
        "outputId": "3029ec6d-69a8-449e-bd95-4d6c44eec394"
      },
      "source": [
        "from xgboost import XGBRegressor\n",
        "\n",
        "preprocessTrainData=train.dropna()\n",
        "training_set_X, training_set_Y= preprocessTrainData.drop(columns=['rating']), preprocessTrainData['rating']\n",
        "\n",
        "params = {'subsample': 0.5, 'n_estimators': 5000, 'max_depth': 20, 'learning_rate': 0.2, 'colsample_bytree': 0.8, 'colsample_bylevel': 0.9}\n",
        "\n",
        "xgb_model = XGBRegressor(**params)\n",
        "xgb_model.fit(training_set_X, training_set_Y)\n",
        "\n",
        "y_pred = xgb_model.predict(FinalTest)\n",
        "y_pred"
      ],
      "execution_count": null,
      "outputs": [
        {
          "output_type": "stream",
          "name": "stdout",
          "text": [
            "[20:43:39] WARNING: /workspace/src/objective/regression_obj.cu:152: reg:linear is now deprecated in favor of reg:squarederror.\n"
          ]
        },
        {
          "output_type": "execute_result",
          "data": {
            "text/plain": [
              "array([2.984791 , 3.6664104, 2.8757107, ..., 4.0088367, 4.3278427,\n",
              "       3.8136973], dtype=float32)"
            ]
          },
          "metadata": {},
          "execution_count": 38
        }
      ]
    },
    {
      "cell_type": "code",
      "metadata": {
        "id": "Pf6IUA_5Q6vI"
      },
      "source": [
        "saveOutput(\"/xgb_model_basic+params.txt\",y_pred)"
      ],
      "execution_count": null,
      "outputs": []
    },
    {
      "cell_type": "code",
      "metadata": {
        "id": "GCUsT6RUqu5s"
      },
      "source": [
        ""
      ],
      "execution_count": null,
      "outputs": []
    },
    {
      "cell_type": "code",
      "metadata": {
        "colab": {
          "base_uri": "https://localhost:8080/"
        },
        "id": "anoAwmxYK8gQ",
        "outputId": "f5d32e85-7e3b-4d13-a202-fa9e6e429145"
      },
      "source": [
        "from xgboost import XGBRegressor\n",
        "\n",
        "params = {'subsample': 0.5, 'n_estimators': 5000, 'max_depth': 20, 'learning_rate': 0.2, 'colsample_bytree': 0.8, 'colsample_bylevel': 0.9}\n",
        "\n",
        "xgb_model = XGBRegressor(**params)\n",
        "xgb_model.fit(X_train, y_train)\n",
        "\n",
        "y_pred = xgb_model.predict(X_test)\n",
        "y_pred\n",
        "\n",
        "from sklearn.metrics import mean_squared_error\n",
        "mean_squared_error(y_test, y_pred, squared=False)"
      ],
      "execution_count": null,
      "outputs": [
        {
          "metadata": {
            "tags": null
          },
          "name": "stdout",
          "output_type": "stream",
          "text": [
            "[21:04:55] WARNING: /workspace/src/objective/regression_obj.cu:152: reg:linear is now deprecated in favor of reg:squarederror.\n"
          ]
        },
        {
          "output_type": "execute_result",
          "data": {
            "text/plain": [
              "0.8132638903399342"
            ]
          },
          "metadata": {},
          "execution_count": 42
        }
      ]
    },
    {
      "cell_type": "code",
      "metadata": {
        "colab": {
          "base_uri": "https://localhost:8080/"
        },
        "id": "n74he1ezX9go",
        "outputId": "dc5d2c45-24dd-471d-8ef4-709c700c4a52"
      },
      "source": [
        "from xgboost import XGBRegressor\n",
        "\n",
        "params = {'subsample': 0.5, 'n_estimators': 1000, 'max_depth': 20, 'learning_rate': 1.0, 'colsample_bytree': 0.8, 'colsample_bylevel': 0.9}\n",
        "\n",
        "xgb_model = XGBRegressor(**params)\n",
        "xgb_model.fit(X_train, y_train)\n",
        "\n",
        "y_pred = xgb_model.predict(X_test)\n",
        "y_pred\n",
        "\n",
        "from sklearn.metrics import mean_squared_error\n",
        "mean_squared_error(y_test, y_pred, squared=False)"
      ],
      "execution_count": null,
      "outputs": [
        {
          "output_type": "stream",
          "name": "stdout",
          "text": [
            "[20:24:51] WARNING: /workspace/src/objective/regression_obj.cu:152: reg:linear is now deprecated in favor of reg:squarederror.\n"
          ]
        },
        {
          "output_type": "execute_result",
          "data": {
            "text/plain": [
              "0.8220505765420413"
            ]
          },
          "metadata": {},
          "execution_count": 37
        }
      ]
    },
    {
      "cell_type": "code",
      "metadata": {
        "colab": {
          "base_uri": "https://localhost:8080/"
        },
        "id": "ZJ5ZXlb1eYvz",
        "outputId": "832bb3bd-b4f3-4f4a-efb1-ddd18851d931"
      },
      "source": [
        "from xgboost import XGBClassifier\n",
        "\n",
        "params = {'subsample': 0.5, 'n_estimators': 50, 'max_depth': 5, 'learning_rate': 1.0, 'colsample_bytree': 0.8, 'colsample_bylevel': 0.9}\n",
        "\n",
        "xgb_model = XGBClassifier()\n",
        "xgb_model.fit(X_train, y_train)\n",
        "\n",
        "y_pred = xgb_model.predict(X_test)\n",
        "y_pred\n",
        "\n",
        "from sklearn.metrics import mean_squared_error\n",
        "mean_squared_error(y_test, y_pred, squared=False)"
      ],
      "execution_count": null,
      "outputs": [
        {
          "output_type": "execute_result",
          "data": {
            "text/plain": [
              "1.1314235345732628"
            ]
          },
          "metadata": {},
          "execution_count": 23
        }
      ]
    },
    {
      "cell_type": "code",
      "metadata": {
        "id": "VV1vpFuXLFi9"
      },
      "source": [
        "# saveOutput(\"/xgb_model_basic+1000.txt\",y_pred)"
      ],
      "execution_count": null,
      "outputs": []
    },
    {
      "cell_type": "code",
      "metadata": {
        "id": "0KEVCB9vc6W0"
      },
      "source": [
        ""
      ],
      "execution_count": null,
      "outputs": []
    },
    {
      "cell_type": "code",
      "metadata": {
        "id": "s3xhvFWSLoxT"
      },
      "source": [
        "rounder = lambda x: round(x/0.5) * 0.5\n",
        "vfunc = np.vectorize(rounder)\n",
        "output5round = vfunc(y_pred)"
      ],
      "execution_count": null,
      "outputs": []
    },
    {
      "cell_type": "code",
      "metadata": {
        "id": "Ym7BuSGPPycE"
      },
      "source": [
        "saveOutput(\"/xgb_model_basic+1000+rounded.txt\",output5round)"
      ],
      "execution_count": null,
      "outputs": []
    },
    {
      "cell_type": "code",
      "metadata": {
        "id": "8MqvYj-UPz7y"
      },
      "source": [
        ""
      ],
      "execution_count": null,
      "outputs": []
    }
  ]
}